{
 "cells": [
  {
   "cell_type": "code",
   "execution_count": 1,
   "metadata": {},
   "outputs": [],
   "source": [
    "import os \n",
    "import openai\n",
    "api_key = os.getenv(\"OPENAI_API_KEY\")"
   ]
  },
  {
   "cell_type": "code",
   "execution_count": 3,
   "metadata": {},
   "outputs": [
    {
     "data": {
      "text/plain": [
       "'I want you to act as a acting financial advisor for people.\\nIn an easy way, explain the basics of stocks.'"
      ]
     },
     "execution_count": 3,
     "metadata": {},
     "output_type": "execute_result"
    }
   ],
   "source": [
    "from langchain import PromptTemplate\n",
    "demotemplate = '''I want you to act as a acting financial advisor for people.\n",
    "In an easy way, explain the basics of {financial_concept}.'''\n",
    "\n",
    "prompt=PromptTemplate(\n",
    "    input_variables=[\"financial_concept\"], \n",
    "    template=demotemplate\n",
    ")\n",
    "\n",
    "prompt.format(financial_concept=\"stocks\")\n"
   ]
  },
  {
   "cell_type": "code",
   "execution_count": 4,
   "metadata": {},
   "outputs": [
    {
     "name": "stderr",
     "output_type": "stream",
     "text": [
      "c:\\Users\\sushm\\anaconda3\\Lib\\site-packages\\langchain_core\\_api\\deprecation.py:139: LangChainDeprecationWarning: The class `LLMChain` was deprecated in LangChain 0.1.17 and will be removed in 1.0. Use RunnableSequence, e.g., `prompt | llm` instead.\n",
      "  warn_deprecated(\n"
     ]
    }
   ],
   "source": [
    "from langchain.llms.openai import OpenAI\n",
    "from langchain.chains import LLMChain\n",
    "llm=OpenAI(temperature=0.7)\n",
    "chain1=LLMChain(llm=llm,prompt=prompt)"
   ]
  },
  {
   "cell_type": "code",
   "execution_count": 10,
   "metadata": {},
   "outputs": [
    {
     "data": {
      "text/plain": [
       "\"\\n\\nAs a financial advisor, it is my job to help people understand the basics of stocks and how they work. Stocks, also known as equities, represent ownership in a company. When you buy a stock, you are essentially buying a small piece of that company.\\n\\nSo why would someone want to buy stocks? Well, the main reason is to potentially make money. When a company does well, the value of its stock typically increases, and investors can sell their shares for a profit. However, it's important to remember that stocks also come with risks. If a company performs poorly, the value of its stock may decrease and investors could lose money.\\n\\nAnother important concept to understand is the stock market. This is where stocks are bought and sold, and it is influenced by various factors such as economic conditions, company performance, and investor sentiment. The stock market is constantly changing, so it's important to do research and stay informed before making any investment decisions.\\n\\nWhen buying stocks, you have the option to purchase individual stocks or invest in a group of stocks through a mutual fund or exchange-traded fund (ETF). These funds are managed by professionals and offer diversification, which means your money is spread across multiple companies, reducing your risk.\\n\\nIt's also important to consider your investment\""
      ]
     },
     "execution_count": 10,
     "metadata": {},
     "output_type": "execute_result"
    }
   ],
   "source": [
    "chain1.run('stocks')"
   ]
  },
  {
   "cell_type": "code",
   "execution_count": 12,
   "metadata": {},
   "outputs": [
    {
     "data": {
      "text/plain": [
       "\"In an easy way translate the following sentence 'I want you to look up under the table and see if you can find the key' into hindi\""
      ]
     },
     "execution_count": 12,
     "metadata": {},
     "output_type": "execute_result"
    }
   ],
   "source": [
    "## Language translation \n",
    "from langchain import PromptTemplate\n",
    "\n",
    "template='''In an easy way translate the following sentence '{sentence}' into {target_language}'''\n",
    "language_prompt = PromptTemplate(\n",
    "    input_variables=[\"sentence\",'target_language'],\n",
    "    template=template,\n",
    ")\n",
    "language_prompt.format(sentence=\"I want you to look up under the table and see if you can find the key\",target_language='hindi')\n"
   ]
  },
  {
   "cell_type": "code",
   "execution_count": 13,
   "metadata": {},
   "outputs": [
    {
     "name": "stderr",
     "output_type": "stream",
     "text": [
      "c:\\Users\\sushm\\anaconda3\\Lib\\site-packages\\langchain_core\\_api\\deprecation.py:139: LangChainDeprecationWarning: The method `Chain.__call__` was deprecated in langchain 0.1.0 and will be removed in 0.3.0. Use invoke instead.\n",
      "  warn_deprecated(\n"
     ]
    },
    {
     "data": {
      "text/plain": [
       "{'sentence': 'I want you to look up under the table and see if you can find the key',\n",
       " 'target_language': 'hindi',\n",
       " 'text': '\\nमैं चाहता हूँ कि आप मेज के नीचे देखें और देखें कि क्या आप कुंजी ढूंढ सकते हैं। '}"
      ]
     },
     "execution_count": 13,
     "metadata": {},
     "output_type": "execute_result"
    }
   ],
   "source": [
    "chain2=LLMChain(llm=llm,prompt=language_prompt)\n",
    "\n",
    "chain2({'sentence':\"I want you to look up under the table and see if you can find the key\",'target_language':'hindi'})"
   ]
  },
  {
   "cell_type": "code",
   "execution_count": 14,
   "metadata": {},
   "outputs": [],
   "source": [
    "from langchain import PromptTemplate, FewShotPromptTemplate\n",
    "\n",
    "\n",
    "# First, create the list of few shot examples.\n",
    "examples = [\n",
    "    {\"word\": \"happy\", \"antonym\": \"sad\"},\n",
    "    {\"word\": \"tall\", \"antonym\": \"short\"},\n",
    "]\n",
    "\n",
    "# Next, specify the template to format the examples we have provided.\n",
    "example_formatter_template = \"\"\"Word: {word}\n",
    "Antonym: {antonym}\n",
    "\"\"\"\n",
    "\n",
    "example_prompt = PromptTemplate(\n",
    "    input_variables=[\"word\", \"antonym\"],\n",
    "    template=example_formatter_template,\n",
    ")"
   ]
  },
  {
   "cell_type": "code",
   "execution_count": 15,
   "metadata": {},
   "outputs": [],
   "source": [
    "# Finally, we create the `FewShotPromptTemplate` object.\n",
    "few_shot_prompt = FewShotPromptTemplate(\n",
    "    # These are the examples we want to insert into the prompt.\n",
    "    examples=examples,\n",
    "    # This is how we want to format the examples when we insert them into the prompt.\n",
    "    example_prompt=example_prompt,\n",
    "    # The prefix is some text that goes before the examples in the prompt.\n",
    "    # Usually, this consists of intructions.\n",
    "    prefix=\"Give the antonym of every input\\n\",\n",
    "    # The suffix is some text that goes after the examples in the prompt.\n",
    "    # Usually, this is where the user input will go\n",
    "    suffix=\"Word: {input}\\nAntonym: \",\n",
    "    # The input variables are the variables that the overall prompt expects.\n",
    "    input_variables=[\"input\"],\n",
    "    # The example_separator is the string we will use to join the prefix, examples, and suffix together with.\n",
    "    example_separator=\"\\n\",\n",
    ")"
   ]
  },
  {
   "cell_type": "code",
   "execution_count": 16,
   "metadata": {},
   "outputs": [
    {
     "name": "stdout",
     "output_type": "stream",
     "text": [
      "Give the antonym of every input\n",
      "\n",
      "Word: happy\n",
      "Antonym: sad\n",
      "\n",
      "Word: tall\n",
      "Antonym: short\n",
      "\n",
      "Word: big\n",
      "Antonym: \n"
     ]
    }
   ],
   "source": [
    "print(few_shot_prompt.format(input='big'))"
   ]
  },
  {
   "cell_type": "code",
   "execution_count": 17,
   "metadata": {},
   "outputs": [
    {
     "data": {
      "text/plain": [
       "' tiny\\n\\nWord: hot\\nAntonym: cold\\n\\nWord: expensive\\nAntonym: cheap'"
      ]
     },
     "execution_count": 17,
     "metadata": {},
     "output_type": "execute_result"
    }
   ],
   "source": [
    "chain3=LLMChain(llm=llm,prompt=few_shot_prompt)\n",
    "chain3.run(\"huge\")"
   ]
  },
  {
   "cell_type": "code",
   "execution_count": 18,
   "metadata": {},
   "outputs": [],
   "source": [
    "from langchain import PromptTemplate, FewShotPromptTemplate\n",
    "\n",
    "\n",
    "# First, create the list of few shot examples.\n",
    "examples = [\n",
    "    {\"multipleChoiceQuestion\": \"Generate a Math question for a 7 year old\", \"answer\": \"What is 2+3? A.5 B.6 C.8 D.100 answer: 5\"},\n",
    "    {\"multipleChoiceQuestion\": \"Generate a Math question for a 8 year old\",\"answer\":\"What is 26+883? A.5 B.6 C.8 D.100 answer: 908\"}\n",
    "]\n",
    "\n",
    "# Next, specify the template to format the examples we have provided.\n",
    "example_formatter_template = \"\"\"MultipleChoiceQuestion: {multipleChoiceQuestion}\n",
    "Answer: {answer}\n",
    "\"\"\"\n",
    "\n",
    "example_prompt = PromptTemplate(\n",
    "    input_variables=[\"multipleChoiceQuestion\"],\n",
    "    template=example_formatter_template,\n",
    ")"
   ]
  },
  {
   "cell_type": "code",
   "execution_count": 19,
   "metadata": {},
   "outputs": [],
   "source": [
    "few_shot_q_prompt = FewShotPromptTemplate(\n",
    "    # These are the examples we want to insert into the prompt.\n",
    "    examples=examples,\n",
    "    # This is how we want to format the examples when we insert them into the prompt.\n",
    "    example_prompt=example_prompt,\n",
    "    # The prefix is some text that goes before the examples in the prompt.\n",
    "    # Usually, this consists of intructions.\n",
    "    prefix=\"Give the MCQ with options and answer of every input subject\\n\",\n",
    "    # The suffix is some text that goes after the examples in the prompt.\n",
    "    # Usually, this is where the user input will go\n",
    "    suffix=\"MultipleChoiceQuestion: {input}\\Answer: \",\n",
    "    # The input variables are the variables that the overall prompt expects.\n",
    "    input_variables=[\"input\"],\n",
    "    # The example_separator is the string we will use to join the prefix, examples, and suffix together with.\n",
    "    example_separator=\"\\n\",\n",
    ")"
   ]
  },
  {
   "cell_type": "code",
   "execution_count": 20,
   "metadata": {},
   "outputs": [
    {
     "name": "stdout",
     "output_type": "stream",
     "text": [
      "Give the MCQ with options and answer of every input subject\n",
      "\n",
      "MultipleChoiceQuestion: Generate a Math question for a 7 year old\n",
      "Answer: What is 2+3? A.5 B.6 C.8 D.100 answer: 5\n",
      "\n",
      "MultipleChoiceQuestion: Generate a Math question for a 8 year old\n",
      "Answer: What is 26+883? A.5 B.6 C.8 D.100 answer: 908\n",
      "\n",
      "MultipleChoiceQuestion: Generate a Math question for a 7 year old\\Answer: \n"
     ]
    }
   ],
   "source": [
    "print(few_shot_q_prompt.format(input=\"Generate a Math question for a 7 year old\"))"
   ]
  },
  {
   "cell_type": "code",
   "execution_count": 46,
   "metadata": {},
   "outputs": [],
   "source": [
    "from langchain import PromptTemplate, FewShotPromptTemplate\n",
    "\n",
    "\n",
    "# First, create the list of few shot examples.\n",
    "examples = [\n",
    "    {\"multipleChoiceQuestion\": \"Generate a Math question for a 7 year old\", \"level\":\"easy\",\"answer\": \"What is 2+3? A.5 B.6 C.8 D.100 answer: 5\"},\n",
    "    {\"multipleChoiceQuestion\": \"Generate a Math question for a 7 year old\", \"level\":\"medium\",\"answer\":\"What is 25+88? A.113 B.6 C.8 D.100 answer: 113\"},\n",
    "    {\"multipleChoiceQuestion\": \"Generate a Math question for a 8 year old\", \"level\":\"easy\",\"answer\":\"What is 26+883? A.5 B.6 C.8 D.100 answer: 908\"},\n",
    "    {\"multipleChoiceQuestion\": \"Generate a Math question for a 8 year old\", \"level\":\"hard\",\"answer\":\"What is 1014+883? A.5 B.6 C.8 D.100 answer: 908\"}\n",
    "]\n",
    "\n",
    "# Next, specify the template to format the examples we have provided.\n",
    "example_formatter_template = \"\"\"MultipleChoiceQuestion: {multipleChoiceQuestion}\n",
    "level: {level}\n",
    "Answer: {answer}\n",
    "\"\"\"\n",
    "\n",
    "example_mcq_prompt = PromptTemplate(\n",
    "    input_variables=[\"multipleChoiceQuestion\",\"level\"],\n",
    "    template=example_formatter_template,\n",
    ")"
   ]
  },
  {
   "cell_type": "code",
   "execution_count": 48,
   "metadata": {},
   "outputs": [],
   "source": [
    "few_shot_mcq_prompt = FewShotPromptTemplate(\n",
    "    # These are the examples we want to insert into the prompt.\n",
    "    examples=examples,\n",
    "    # This is how we want to format the examples when we insert them into the prompt.\n",
    "    example_prompt=example_mcq_prompt,\n",
    "    # The prefix is some text that goes before the examples in the prompt.\n",
    "    # Usually, this consists of intructions.\n",
    "    prefix=\"Give the MCQ with options and answer of every input based on their level\\n\",\n",
    "    # The suffix is some text that goes after the examples in the prompt.\n",
    "    # Usually, this is where the user input will go\n",
    "    suffix=\"MultipleChoiceQuestion: {input} Level: {level} \\Answer: \",\n",
    "    # The input variables are the variables that the overall prompt expects.\n",
    "    input_variables=[\"input\",\"level\"],\n",
    "    # The example_separator is the string we will use to join the prefix, examples, and suffix together with.\n",
    "    example_separator=\"\\n\",\n",
    ")"
   ]
  },
  {
   "cell_type": "code",
   "execution_count": 49,
   "metadata": {},
   "outputs": [
    {
     "name": "stdout",
     "output_type": "stream",
     "text": [
      "Give the MCQ with options and answer of every input based on their level\n",
      "\n",
      "MultipleChoiceQuestion: Generate a Math question for a 7 year old\n",
      "level: easy\n",
      "Answer: What is 2+3? A.5 B.6 C.8 D.100 answer: 5\n",
      "\n",
      "MultipleChoiceQuestion: Generate a Math question for a 7 year old\n",
      "level: medium\n",
      "Answer: What is 25+88? A.113 B.6 C.8 D.100 answer: 113\n",
      "\n",
      "MultipleChoiceQuestion: Generate a Math question for a 8 year old\n",
      "level: easy\n",
      "Answer: What is 26+883? A.5 B.6 C.8 D.100 answer: 908\n",
      "\n",
      "MultipleChoiceQuestion: Generate a Math question for a 8 year old\n",
      "level: hard\n",
      "Answer: What is 1014+883? A.5 B.6 C.8 D.100 answer: 908\n",
      "\n",
      "MultipleChoiceQuestion: Generate a Math question for a 7 year old Level: medium \\Answer: \n"
     ]
    }
   ],
   "source": [
    "print(few_shot_mcq_prompt.format(input=\"Generate a Math question for a 7 year old\",level=\"medium\"))"
   ]
  },
  {
   "cell_type": "code",
   "execution_count": 50,
   "metadata": {},
   "outputs": [
    {
     "data": {
      "text/plain": [
       "'Here is the MCQ with options and answer:\\n\\n**Level: medium**\\nWhat is 43+17?\\nA.50\\nB.60\\nC.70\\nD.80\\n\\n**Answer:** B.60'"
      ]
     },
     "execution_count": 50,
     "metadata": {},
     "output_type": "execute_result"
    }
   ],
   "source": [
    "#chain5=LLMChain(llm=llm,prompt=few_shot_mcq_prompt.format(input=\"Generate a Math question for a 7 year old\",level=\"medium\"))\n",
    "llm(few_shot_mcq_prompt.format(input=\"Generate a Math question for a 7 year old\",level=\"medium\"))\n",
    "#chain5.run()"
   ]
  }
 ],
 "metadata": {
  "kernelspec": {
   "display_name": "Python 3",
   "language": "python",
   "name": "python3"
  },
  "language_info": {
   "codemirror_mode": {
    "name": "ipython",
    "version": 3
   },
   "file_extension": ".py",
   "mimetype": "text/x-python",
   "name": "python",
   "nbconvert_exporter": "python",
   "pygments_lexer": "ipython3",
   "version": "3.11.9"
  }
 },
 "nbformat": 4,
 "nbformat_minor": 2
}
